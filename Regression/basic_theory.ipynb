{
  "nbformat": 4,
  "nbformat_minor": 0,
  "metadata": {
    "colab": {
      "provenance": [],
      "collapsed_sections": [
        "6oRoRzoShRdA",
        "bMBg_L-pgU7n",
        "Qdsfdk14kW3M"
      ],
      "authorship_tag": "ABX9TyOosJ+WusLBmVEvLhyTpoIC",
      "include_colab_link": true
    },
    "kernelspec": {
      "name": "python3",
      "display_name": "Python 3"
    },
    "language_info": {
      "name": "python"
    }
  },
  "cells": [
    {
      "cell_type": "markdown",
      "metadata": {
        "id": "view-in-github",
        "colab_type": "text"
      },
      "source": [
        "<a href=\"https://colab.research.google.com/github/Yoshiki0418/Machine_Learning/blob/main/Regression/basic_theory.ipynb\" target=\"_parent\"><img src=\"https://colab.research.google.com/assets/colab-badge.svg\" alt=\"Open In Colab\"/></a>"
      ]
    },
    {
      "cell_type": "markdown",
      "source": [
        "# 回帰とは\n"
      ],
      "metadata": {
        "id": "OLC67YyHf4QQ"
      }
    },
    {
      "cell_type": "markdown",
      "source": [
        "回帰分析は、変数間の関係性をモデル化し、特定の変数の値を他の変数の値に基づいて予測する統計的手法です。基本的には、ある変数（**目的変数**や**従属変数**と呼ばれる）が、一つまたは複数の他の変数（**説明変数**や**独立変数**と呼ばれる）によってどのように影響を受けるかを分析します。回帰分析には、単回帰と重回帰の二つの主要な形式があります。\n",
        "\n",
        "<br>\n",
        "\n",
        "例えば、部屋の広さから家賃高さの方向に因果関係があると考える。そこで、部屋の広さで家賃の高さを説明することを考える。家賃の高さ$y$のように、説明したい変数（予測したい変数）は**目的変数**（target variable）や**被説明変数**（explained variable）、**従属変数**（dependent variable）などと呼ばれる。また、部屋の広さ\n",
        "のように、目的変数を説明するための変数は**説明変数**（explanatory variable）や**独立変数**（independent variable）などと呼ばれる。 目的変数が**量的変数**（quantitative variable）であるとき、すなわち説明変数から目的変数の数や量の大小を表現することを**回帰**（regression）と呼ぶ。\n",
        "\n",
        "![](https://camo.qiitausercontent.com/8a1cbf10193adcb344ecdfc3ddb87f633ba2df34/68747470733a2f2f71696974612d696d6167652d73746f72652e73332e61702d6e6f727468656173742d312e616d617a6f6e6177732e636f6d2f302f333638373034322f33306439346630632d363362322d396232322d336635372d3937636337663266313763642e706e67)\n",
        "\n",
        "\n",
        "* 「広さ」と「家賃」は以下のような数式で表せる\n",
        "\n",
        "$$\n",
        "Y = f(X_1) + ϵ\n",
        "$$<br>\n",
        "$Y$：真の目的変数(ex. 家賃)の値<br>\n",
        "$X_1$：特徴量、説明変数(ex. 部屋の広さ)<br>\n",
        "$f$ : 真の関数<br>\n",
        "$ϵ$ : 誤差項"
      ],
      "metadata": {
        "id": "6vKPFvAhUD-Z"
      }
    },
    {
      "cell_type": "markdown",
      "source": [
        "## 線形回帰"
      ],
      "metadata": {
        "id": "wD7es81Hf959"
      }
    },
    {
      "cell_type": "markdown",
      "source": [
        "線形回帰は、予測を行う際に直線的な関数(予測関数:$f$)を用いるモデルである。\n",
        "\n",
        "$$\n",
        "f(X) = \\theta_{0} + \\theta_1X_1 + \\theta_2X_2 + ・・・ + \\theta_nX_n\n",
        "$$<br>\n",
        "$\\theta_j$ : j番目のパラメータ<br>\n",
        "$X_j$ : j番目の特徴量（説明変数）の値\n",
        "\n",
        "<br>\n",
        "\n",
        "上記では全ての係数をパラメータ($\\theta$)で表現したが、一般的に$\\theta_0$をバイアス$b$、$\\theta_1,\\theta_2,・・・,\\theta_n$を重み$w_1, w_2, ・・・, w_n$と置き換えることができる。\n",
        "\n",
        "$$\n",
        "f(X) = b + w_1X_1 + w_2X_2 + ・・・ + w_nX_n\n",
        "$$<br>\n",
        "$b$ : バイアス<br>\n",
        "$w_j$ : j番目の特徴量（説明変数）の重み"
      ],
      "metadata": {
        "id": "z8Fv1j3iXjy8"
      }
    },
    {
      "cell_type": "markdown",
      "source": [
        "### 単回帰"
      ],
      "metadata": {
        "id": "6oRoRzoShRdA"
      }
    },
    {
      "cell_type": "markdown",
      "source": [
        "単回帰分析は、**一つの説明変数と一つの目的変数の関係を分析**します。例えば、気温がアイスクリームの売上にどう影響するかを調べる場合、気温が説明変数、アイスクリームの売上が目的変数となります。\n",
        "\n",
        "$$\n",
        "f(X) = b + wX\n",
        "$$<br>\n",
        "$f(X)$ : 目的変数<br>\n",
        "$X$ : 単一の説明変数<br>\n",
        "$b$ : 切片またはバイアス項<br>\n",
        "$w$ : $X$の重み,パラメータ(係数)<br>"
      ],
      "metadata": {
        "id": "MTiVLtDMhZb4"
      }
    },
    {
      "cell_type": "markdown",
      "source": [
        "### 重回帰"
      ],
      "metadata": {
        "id": "bMBg_L-pgU7n"
      }
    },
    {
      "cell_type": "markdown",
      "source": [
        "重回帰分析では、**二つ以上の説明変数を用いて目的変数を予測します**。例えば、気温と週末かどうか（週末の場合は1、平日の場合は0とするバイナリ変数）を説明変数として、アイスクリームの売上を予測する場合がこれに該当します。\n",
        "\n",
        "$$\n",
        "f(X) = b + w_1X_1 + w_2X_2 + ・・・ + w_nX_n\n",
        "$$<br>\n",
        "$f(X)$ : 目的変数<br>\n",
        "$X_1,X_2,X_n$ : 単一の説明変数<br>\n",
        "$b$ : 切片またはバイアス項<br>\n",
        "$w_1$ : $X_1$の重み、パラメータ(係数)<br>\n",
        "$w_2$ : $X_2$の重み、パラメータ(係数)<br>\n",
        "$w_n$ : $X_n$の重み、パラメータ(係数)<br>"
      ],
      "metadata": {
        "id": "KIKRr0SujAbi"
      }
    },
    {
      "cell_type": "markdown",
      "source": [
        "### 最小二乗法"
      ],
      "metadata": {
        "id": "Qdsfdk14kW3M"
      }
    },
    {
      "cell_type": "markdown",
      "source": [
        "訓練データにおいて、予測と真の回帰ターゲット$y$との**二乗誤差(平均二乗誤差)** が最小になるようにパラメータ$θ$(バイアス, 重み)を求める手法である。\n",
        "\n",
        "* **単回帰の場合**\n",
        "\n",
        "$$\n",
        "\\sum_{i=1}^{m} e_i^2 = \\sum_{i=1}^{m} \\{ y_i - (b + w_1 x_{i}) \\}^2\n",
        "$$\n",
        "<br>\n",
        "\n",
        "* **重回帰の場合**\n",
        "\n",
        "$$\n",
        "\\sum_{i=1}^{m} e_i^2 = \\sum_{i=1}^{m} \\left( y_i - (b + w_1 x_{i1} + w_2 x_{i2} + \\cdots + w_n x_{in}) \\right)^2\n",
        "$$<br>\n",
        "$y_i$：真の値<br>\n",
        "$(b + w_1 x_{i1} + w_2 x_{i2} + \\cdots + w_n x_{in})$:$予測値\\hat{y}$\n",
        "\n",
        "<br>\n",
        "\n",
        "上記の式から、二乗誤差は**(真の値ー予測値)の二乗の総和**で表される。したがって、この二乗誤差を小さくしていくことで、予測の精度を高めることができる。"
      ],
      "metadata": {
        "id": "USJFIYM7kbnk"
      }
    },
    {
      "cell_type": "markdown",
      "source": [
        "### 最急降下法(gradient descent)"
      ],
      "metadata": {
        "id": "MDGeatOwnUqo"
      }
    },
    {
      "cell_type": "markdown",
      "source": [
        "最急降下法とは、**関数の最小値を探索するアルゴリズム**のことである。平均二乗残差のように、モデルの予測値と正解値（実測値）とのずれを計測する関数を、**損失関数**（loss function）と呼ぶ。なお、機械学習や数理最適化において最小化や最大化の対象となる関数を**目的関数**（objective function）と呼ぶ。しばしば、損失関数のことを目的関数と言い換えることがあるが、損失関数よりも目的関数の方がより広い概念を表す。\n",
        "\n",
        "<br>\n",
        "※以下では、平均二乗誤差(MSE)で表す\n",
        "\n",
        "* **単回帰の場合**\n",
        "\n",
        "$$\n",
        "L(x_i,y_i ; b, w) = \\frac{1}{m} \\sum_{i=1}^{m} e_i^2 = \\frac{1}{m} \\sum_{i=1}^{m} \\left( y_i - (b + w_1 x_{i}) \\right)^2\n",
        "$$\n",
        "\n",
        "\n",
        "* **重回帰の場合**\n",
        "\n",
        "$$\n",
        "L(x_{i1},x_{i2},\\cdots,x_{in}, y_i ; b, w_1, w_2,\\cdots,w_n) = \\frac{1}{m} \\sum_{i=1}^{m} \\left( y_i - \\left( b_0 + w_1 x_{i1} + w_2 x_{i2} + \\cdots + w_n x_{in} \\right) \\right)^2\n",
        "$$<br>\n",
        "\n",
        "最適化問題では、関数（多くの場合、**コスト関数**、**損失関数**、または**目的関数**と呼ばれます）が最小化（または最大化）になる変数の値（$θ$）を探索する。したがって、最急降下法は最適化問題の**勾配法**のアルゴリズムの１つである。持っとも急になる方向に少しずつパラメータを動かして最適解を探ることを学習という。\n",
        "\n",
        "　　　　　　　　　　　　![](https://c.mql5.com/2/47/ezgif-5-4c39e7eb8c.gif)<br>\n",
        "　　　　　　　　　　　　　　　　　　　　　　　　　　　　　　　　　　　[参照先：データサイエンスと機械学習（第06回）：勾配降下法](https://www.mql5.com/ja/articles/11200)\n",
        "\n"
      ],
      "metadata": {
        "id": "5NJU1yDFnt2g"
      }
    },
    {
      "cell_type": "markdown",
      "source": [
        "#### 勾配降下法の概要"
      ],
      "metadata": {
        "id": "SNvaJk9Bu1Yr"
      }
    },
    {
      "cell_type": "markdown",
      "source": [
        "$$\n",
        "w ← w - \\alpha \\frac{d}{dw} L(b,w)\n",
        "$$\n",
        "<br>\n",
        "$$\n",
        "b ← b - \\alpha \\frac{d}{db} L(b,w)\n",
        "$$<br>\n",
        "$b$：バイアス<br>\n",
        "$w$：重み<br>\n",
        "$α$：学習率<br>\n",
        "$\\frac{d}{d\\theta} L(b, w)$：傾き\n",
        "\n",
        "<br>\n",
        "\n",
        "\n",
        "初期パラメータから、最適解のパラメータを探すためのステップで用いる式は、上記の式で最適解まで繰り返される。それぞれのパラメータを上記の式で**同時に**更新していく。どれだけ重みが増えても同じことを繰り返すだけである。\n",
        "\n",
        "<br>\n",
        "\n",
        "それぞれのパラメータを更新する式を見てわかるように、それぞれのパラメータが偏微分で傾きを計算していることがわかる。損失関数をそれぞれのパラメータ(w,b)で偏微分する時は、合成関数を用いて計算する必要がある。合成関数を用いてそれぞれのパラメータを計算する式の形は以下のようになる。\n",
        "\n",
        "* **単回帰の場合**\n",
        "\n",
        "・ バイアスbについての偏微分\n",
        "$$\n",
        "\\frac{\\partial}{\\partial b} L(b, w) = -\\frac{2}{m} \\sum_{i=1}^{m} (y_i - (b + w x_i))\n",
        "$$<br>\n",
        "・ 重みwについての偏微分\n",
        "$$\n",
        "\\frac{\\partial}{\\partial w} L(b, w) = -\\frac{2}{m} \\sum_{i=1}^{m} (y_i - (b + w x_i))x_i\n",
        "$$\n",
        "\n",
        "\n",
        "**学習率**\n",
        "\n",
        "記号$α$で表され、勾配降下法において、パラメータを誤差が小さくなる方向にどれだけ移動させるかを決めます。学習率が大きすぎると最小値を「飛び越えて」しまい収束しない可能性があり、小さすぎると収束までに非常に長い時間がかかる可能性があります。適切な学習率を選択することは、効率的な学習とモデルのパフォーマンスに非常に重要です。\n"
      ],
      "metadata": {
        "id": "EGVTtnBFwwxR"
      }
    },
    {
      "cell_type": "markdown",
      "source": [
        "#### 最急降下法をスクラッチで実装"
      ],
      "metadata": {
        "id": "Ce-kpPVw3oxB"
      }
    },
    {
      "cell_type": "code",
      "source": [
        "# データを準備する\n",
        "import numpy as np\n",
        "import pandas as pd\n",
        "import seaborn as sns\n",
        "\n",
        "# 辞書からデータフレームを作成\n",
        "df = pd.DataFrame({\n",
        "    \"ID\": [\"0\", \"1\", \"2\", \"3\", \"4\", \"5\", \"6\", \"7\", \"8\", \"9\"],\n",
        "    \"space\": [64, 67, 84, 87, 87, 29, 103, 41, 56, 107],\n",
        "    \"rent\": [35.530593, 31.570617, 47.926004, 41.504060, 38.521561, 21.595702, 39.992087, 27.351023, 26.927642, 43.475992],\n",
        "})\n",
        "\n",
        "df.head()"
      ],
      "metadata": {
        "colab": {
          "base_uri": "https://localhost:8080/",
          "height": 206
        },
        "id": "DKybY73xngV2",
        "outputId": "cc990b98-c1de-48d3-8289-bf0d913eda69"
      },
      "execution_count": 1,
      "outputs": [
        {
          "output_type": "execute_result",
          "data": {
            "text/plain": [
              "  ID  space       rent\n",
              "0  0     64  35.530593\n",
              "1  1     67  31.570617\n",
              "2  2     84  47.926004\n",
              "3  3     87  41.504060\n",
              "4  4     87  38.521561"
            ],
            "text/html": [
              "\n",
              "  <div id=\"df-4c04b61a-2d41-4127-b02c-e2cba43cd11b\" class=\"colab-df-container\">\n",
              "    <div>\n",
              "<style scoped>\n",
              "    .dataframe tbody tr th:only-of-type {\n",
              "        vertical-align: middle;\n",
              "    }\n",
              "\n",
              "    .dataframe tbody tr th {\n",
              "        vertical-align: top;\n",
              "    }\n",
              "\n",
              "    .dataframe thead th {\n",
              "        text-align: right;\n",
              "    }\n",
              "</style>\n",
              "<table border=\"1\" class=\"dataframe\">\n",
              "  <thead>\n",
              "    <tr style=\"text-align: right;\">\n",
              "      <th></th>\n",
              "      <th>ID</th>\n",
              "      <th>space</th>\n",
              "      <th>rent</th>\n",
              "    </tr>\n",
              "  </thead>\n",
              "  <tbody>\n",
              "    <tr>\n",
              "      <th>0</th>\n",
              "      <td>0</td>\n",
              "      <td>64</td>\n",
              "      <td>35.530593</td>\n",
              "    </tr>\n",
              "    <tr>\n",
              "      <th>1</th>\n",
              "      <td>1</td>\n",
              "      <td>67</td>\n",
              "      <td>31.570617</td>\n",
              "    </tr>\n",
              "    <tr>\n",
              "      <th>2</th>\n",
              "      <td>2</td>\n",
              "      <td>84</td>\n",
              "      <td>47.926004</td>\n",
              "    </tr>\n",
              "    <tr>\n",
              "      <th>3</th>\n",
              "      <td>3</td>\n",
              "      <td>87</td>\n",
              "      <td>41.504060</td>\n",
              "    </tr>\n",
              "    <tr>\n",
              "      <th>4</th>\n",
              "      <td>4</td>\n",
              "      <td>87</td>\n",
              "      <td>38.521561</td>\n",
              "    </tr>\n",
              "  </tbody>\n",
              "</table>\n",
              "</div>\n",
              "    <div class=\"colab-df-buttons\">\n",
              "\n",
              "  <div class=\"colab-df-container\">\n",
              "    <button class=\"colab-df-convert\" onclick=\"convertToInteractive('df-4c04b61a-2d41-4127-b02c-e2cba43cd11b')\"\n",
              "            title=\"Convert this dataframe to an interactive table.\"\n",
              "            style=\"display:none;\">\n",
              "\n",
              "  <svg xmlns=\"http://www.w3.org/2000/svg\" height=\"24px\" viewBox=\"0 -960 960 960\">\n",
              "    <path d=\"M120-120v-720h720v720H120Zm60-500h600v-160H180v160Zm220 220h160v-160H400v160Zm0 220h160v-160H400v160ZM180-400h160v-160H180v160Zm440 0h160v-160H620v160ZM180-180h160v-160H180v160Zm440 0h160v-160H620v160Z\"/>\n",
              "  </svg>\n",
              "    </button>\n",
              "\n",
              "  <style>\n",
              "    .colab-df-container {\n",
              "      display:flex;\n",
              "      gap: 12px;\n",
              "    }\n",
              "\n",
              "    .colab-df-convert {\n",
              "      background-color: #E8F0FE;\n",
              "      border: none;\n",
              "      border-radius: 50%;\n",
              "      cursor: pointer;\n",
              "      display: none;\n",
              "      fill: #1967D2;\n",
              "      height: 32px;\n",
              "      padding: 0 0 0 0;\n",
              "      width: 32px;\n",
              "    }\n",
              "\n",
              "    .colab-df-convert:hover {\n",
              "      background-color: #E2EBFA;\n",
              "      box-shadow: 0px 1px 2px rgba(60, 64, 67, 0.3), 0px 1px 3px 1px rgba(60, 64, 67, 0.15);\n",
              "      fill: #174EA6;\n",
              "    }\n",
              "\n",
              "    .colab-df-buttons div {\n",
              "      margin-bottom: 4px;\n",
              "    }\n",
              "\n",
              "    [theme=dark] .colab-df-convert {\n",
              "      background-color: #3B4455;\n",
              "      fill: #D2E3FC;\n",
              "    }\n",
              "\n",
              "    [theme=dark] .colab-df-convert:hover {\n",
              "      background-color: #434B5C;\n",
              "      box-shadow: 0px 1px 3px 1px rgba(0, 0, 0, 0.15);\n",
              "      filter: drop-shadow(0px 1px 2px rgba(0, 0, 0, 0.3));\n",
              "      fill: #FFFFFF;\n",
              "    }\n",
              "  </style>\n",
              "\n",
              "    <script>\n",
              "      const buttonEl =\n",
              "        document.querySelector('#df-4c04b61a-2d41-4127-b02c-e2cba43cd11b button.colab-df-convert');\n",
              "      buttonEl.style.display =\n",
              "        google.colab.kernel.accessAllowed ? 'block' : 'none';\n",
              "\n",
              "      async function convertToInteractive(key) {\n",
              "        const element = document.querySelector('#df-4c04b61a-2d41-4127-b02c-e2cba43cd11b');\n",
              "        const dataTable =\n",
              "          await google.colab.kernel.invokeFunction('convertToInteractive',\n",
              "                                                    [key], {});\n",
              "        if (!dataTable) return;\n",
              "\n",
              "        const docLinkHtml = 'Like what you see? Visit the ' +\n",
              "          '<a target=\"_blank\" href=https://colab.research.google.com/notebooks/data_table.ipynb>data table notebook</a>'\n",
              "          + ' to learn more about interactive tables.';\n",
              "        element.innerHTML = '';\n",
              "        dataTable['output_type'] = 'display_data';\n",
              "        await google.colab.output.renderOutput(dataTable, element);\n",
              "        const docLink = document.createElement('div');\n",
              "        docLink.innerHTML = docLinkHtml;\n",
              "        element.appendChild(docLink);\n",
              "      }\n",
              "    </script>\n",
              "  </div>\n",
              "\n",
              "\n",
              "<div id=\"df-51e37b51-c016-4a14-9d3d-b1a2ce305e9f\">\n",
              "  <button class=\"colab-df-quickchart\" onclick=\"quickchart('df-51e37b51-c016-4a14-9d3d-b1a2ce305e9f')\"\n",
              "            title=\"Suggest charts\"\n",
              "            style=\"display:none;\">\n",
              "\n",
              "<svg xmlns=\"http://www.w3.org/2000/svg\" height=\"24px\"viewBox=\"0 0 24 24\"\n",
              "     width=\"24px\">\n",
              "    <g>\n",
              "        <path d=\"M19 3H5c-1.1 0-2 .9-2 2v14c0 1.1.9 2 2 2h14c1.1 0 2-.9 2-2V5c0-1.1-.9-2-2-2zM9 17H7v-7h2v7zm4 0h-2V7h2v10zm4 0h-2v-4h2v4z\"/>\n",
              "    </g>\n",
              "</svg>\n",
              "  </button>\n",
              "\n",
              "<style>\n",
              "  .colab-df-quickchart {\n",
              "      --bg-color: #E8F0FE;\n",
              "      --fill-color: #1967D2;\n",
              "      --hover-bg-color: #E2EBFA;\n",
              "      --hover-fill-color: #174EA6;\n",
              "      --disabled-fill-color: #AAA;\n",
              "      --disabled-bg-color: #DDD;\n",
              "  }\n",
              "\n",
              "  [theme=dark] .colab-df-quickchart {\n",
              "      --bg-color: #3B4455;\n",
              "      --fill-color: #D2E3FC;\n",
              "      --hover-bg-color: #434B5C;\n",
              "      --hover-fill-color: #FFFFFF;\n",
              "      --disabled-bg-color: #3B4455;\n",
              "      --disabled-fill-color: #666;\n",
              "  }\n",
              "\n",
              "  .colab-df-quickchart {\n",
              "    background-color: var(--bg-color);\n",
              "    border: none;\n",
              "    border-radius: 50%;\n",
              "    cursor: pointer;\n",
              "    display: none;\n",
              "    fill: var(--fill-color);\n",
              "    height: 32px;\n",
              "    padding: 0;\n",
              "    width: 32px;\n",
              "  }\n",
              "\n",
              "  .colab-df-quickchart:hover {\n",
              "    background-color: var(--hover-bg-color);\n",
              "    box-shadow: 0 1px 2px rgba(60, 64, 67, 0.3), 0 1px 3px 1px rgba(60, 64, 67, 0.15);\n",
              "    fill: var(--button-hover-fill-color);\n",
              "  }\n",
              "\n",
              "  .colab-df-quickchart-complete:disabled,\n",
              "  .colab-df-quickchart-complete:disabled:hover {\n",
              "    background-color: var(--disabled-bg-color);\n",
              "    fill: var(--disabled-fill-color);\n",
              "    box-shadow: none;\n",
              "  }\n",
              "\n",
              "  .colab-df-spinner {\n",
              "    border: 2px solid var(--fill-color);\n",
              "    border-color: transparent;\n",
              "    border-bottom-color: var(--fill-color);\n",
              "    animation:\n",
              "      spin 1s steps(1) infinite;\n",
              "  }\n",
              "\n",
              "  @keyframes spin {\n",
              "    0% {\n",
              "      border-color: transparent;\n",
              "      border-bottom-color: var(--fill-color);\n",
              "      border-left-color: var(--fill-color);\n",
              "    }\n",
              "    20% {\n",
              "      border-color: transparent;\n",
              "      border-left-color: var(--fill-color);\n",
              "      border-top-color: var(--fill-color);\n",
              "    }\n",
              "    30% {\n",
              "      border-color: transparent;\n",
              "      border-left-color: var(--fill-color);\n",
              "      border-top-color: var(--fill-color);\n",
              "      border-right-color: var(--fill-color);\n",
              "    }\n",
              "    40% {\n",
              "      border-color: transparent;\n",
              "      border-right-color: var(--fill-color);\n",
              "      border-top-color: var(--fill-color);\n",
              "    }\n",
              "    60% {\n",
              "      border-color: transparent;\n",
              "      border-right-color: var(--fill-color);\n",
              "    }\n",
              "    80% {\n",
              "      border-color: transparent;\n",
              "      border-right-color: var(--fill-color);\n",
              "      border-bottom-color: var(--fill-color);\n",
              "    }\n",
              "    90% {\n",
              "      border-color: transparent;\n",
              "      border-bottom-color: var(--fill-color);\n",
              "    }\n",
              "  }\n",
              "</style>\n",
              "\n",
              "  <script>\n",
              "    async function quickchart(key) {\n",
              "      const quickchartButtonEl =\n",
              "        document.querySelector('#' + key + ' button');\n",
              "      quickchartButtonEl.disabled = true;  // To prevent multiple clicks.\n",
              "      quickchartButtonEl.classList.add('colab-df-spinner');\n",
              "      try {\n",
              "        const charts = await google.colab.kernel.invokeFunction(\n",
              "            'suggestCharts', [key], {});\n",
              "      } catch (error) {\n",
              "        console.error('Error during call to suggestCharts:', error);\n",
              "      }\n",
              "      quickchartButtonEl.classList.remove('colab-df-spinner');\n",
              "      quickchartButtonEl.classList.add('colab-df-quickchart-complete');\n",
              "    }\n",
              "    (() => {\n",
              "      let quickchartButtonEl =\n",
              "        document.querySelector('#df-51e37b51-c016-4a14-9d3d-b1a2ce305e9f button');\n",
              "      quickchartButtonEl.style.display =\n",
              "        google.colab.kernel.accessAllowed ? 'block' : 'none';\n",
              "    })();\n",
              "  </script>\n",
              "</div>\n",
              "\n",
              "    </div>\n",
              "  </div>\n"
            ],
            "application/vnd.google.colaboratory.intrinsic+json": {
              "type": "dataframe",
              "variable_name": "df",
              "summary": "{\n  \"name\": \"df\",\n  \"rows\": 10,\n  \"fields\": [\n    {\n      \"column\": \"ID\",\n      \"properties\": {\n        \"dtype\": \"string\",\n        \"num_unique_values\": 10,\n        \"samples\": [\n          \"8\",\n          \"1\",\n          \"5\"\n        ],\n        \"semantic_type\": \"\",\n        \"description\": \"\"\n      }\n    },\n    {\n      \"column\": \"space\",\n      \"properties\": {\n        \"dtype\": \"number\",\n        \"std\": 25,\n        \"min\": 29,\n        \"max\": 107,\n        \"num_unique_values\": 9,\n        \"samples\": [\n          56,\n          67,\n          103\n        ],\n        \"semantic_type\": \"\",\n        \"description\": \"\"\n      }\n    },\n    {\n      \"column\": \"rent\",\n      \"properties\": {\n        \"dtype\": \"number\",\n        \"std\": 8.379899930806047,\n        \"min\": 21.595702,\n        \"max\": 47.926004,\n        \"num_unique_values\": 10,\n        \"samples\": [\n          26.927642,\n          31.570617,\n          21.595702\n        ],\n        \"semantic_type\": \"\",\n        \"description\": \"\"\n      }\n    }\n  ]\n}"
            }
          },
          "metadata": {},
          "execution_count": 1
        }
      ]
    },
    {
      "cell_type": "code",
      "source": [
        "# データを可視化する\n",
        "sns.scatterplot(x='space', y='rent', data=df)"
      ],
      "metadata": {
        "colab": {
          "base_uri": "https://localhost:8080/",
          "height": 467
        },
        "id": "JFWwk3en5gHw",
        "outputId": "68d14eca-b07a-44ee-c048-62b0b1848925"
      },
      "execution_count": 2,
      "outputs": [
        {
          "output_type": "execute_result",
          "data": {
            "text/plain": [
              "<Axes: xlabel='space', ylabel='rent'>"
            ]
          },
          "metadata": {},
          "execution_count": 2
        },
        {
          "output_type": "display_data",
          "data": {
            "text/plain": [
              "<Figure size 640x480 with 1 Axes>"
            ],
            "image/png": "[encoded data removed]"
          },
          "metadata": {}
        }
      ]
    },
    {
      "cell_type": "code",
      "source": [
        "# 損失関数を定義する\n",
        "x = df['space'].values\n",
        "y = df['rent'].values\n",
        "\n",
        "def loss_func(b, w, x, y):\n",
        "    return np.mean(np.square(y - (b + w * x)))"
      ],
      "metadata": {
        "id": "wTjnWYtd5sYF"
      },
      "execution_count": 3,
      "outputs": []
    },
    {
      "cell_type": "code",
      "source": [
        "# 最急降下法\n",
        "# それぞれのパラメータθの最小値と最大値\n",
        "min_0 = -20\n",
        "max_0 = 20\n",
        "min_1 = -1\n",
        "max_1 = 1\n",
        "\n",
        "epochs = 100000 # 繰り返し回数\n",
        "alpha = 0.0001 # 学習率\n",
        "\n",
        "np.random.seed(0) # シード値を固定\n",
        "b = np.random.uniform(min_0, max_0)\n",
        "w = np.random.uniform(min_1, max_1)\n",
        "\n",
        "# パラメータ更新\n",
        "def update_b(b, w, x, y, alpha):\n",
        "    return b - alpha * 2 * np.mean((b + w * x) - y)\n",
        "\n",
        "def update_w(b, w, x, y, alpha):\n",
        "    return w - alpha * 2 * np.mean(((b + w * x) - y) * x)\n",
        "\n",
        "# パラメータ更新の履歴\n",
        "b_hist = []\n",
        "w_hist = []\n",
        "\n",
        "# 初期化\n",
        "b_hist.append(b)\n",
        "w_hist.append(w)\n",
        "\n",
        "for i in range(epochs):\n",
        "    b = update_b(b, w, x, y, alpha)\n",
        "    w = update_w(b, w, x, y, alpha)\n",
        "    b_hist.append(b)\n",
        "    w_hist.append(w)\n",
        "    if i % 10000 == 0:\n",
        "        print(f\"epoch{i:8d}:loss {loss_func(b, w, x, y)}\")\n",
        "\n",
        "# 最適解\n",
        "print(\"b:\", b)\n",
        "print(\"w:\", w)"
      ],
      "metadata": {
        "colab": {
          "base_uri": "https://localhost:8080/"
        },
        "id": "T0UNDqdx6jcH",
        "outputId": "72562609-c9c7-4678-d395-7542749e7759"
      },
      "execution_count": 14,
      "outputs": [
        {
          "output_type": "stream",
          "name": "stdout",
          "text": [
            "epoch       0:loss 29.992021684711858\n",
            "epoch   10000:loss 24.60224752841021\n",
            "epoch   20000:loss 21.031564782369017\n",
            "epoch   30000:loss 18.65164585935427\n",
            "epoch   40000:loss 17.06539065748758\n",
            "epoch   50000:loss 16.00812541155154\n",
            "epoch   60000:loss 15.303440693134956\n",
            "epoch   70000:loss 14.833756709594752\n",
            "epoch   80000:loss 14.520704590499701\n",
            "epoch   90000:loss 14.312050191575569\n",
            "b: 12.883026463698062\n",
            "w: 0.30880821078762416\n"
          ]
        }
      ]
    },
    {
      "cell_type": "markdown",
      "source": [
        "#### 最急降下法の注意点\n",
        "\n"
      ],
      "metadata": {
        "id": "qiqpGqioOkab"
      }
    },
    {
      "cell_type": "markdown",
      "source": [
        "* 学習率($α$)が大きすぎると、発散して学習が進まない。\n",
        "* 最適解ではなく、局所解にたどり着くことがある\n",
        "\n",
        "<img src=\"https://resources.zero2one.jp/2022/05/ai_exp_154-1536x864.jpeg\" width=\"600\">\n",
        "\n",
        "\n",
        "　　　　　　　　　　　　　　　　　　　　　　[参照：G検定（AI・機械学習）用語集](https://zero2one.jp/ai-word/locally-optimal-solution/)\n",
        "\n",
        "この問題は、**学習率が過度に小さいことが原因**で発生する。下のイメージのように学習率が過度に小さいと、ちょっとした窪み(局所解)から抜け出すことができない。\n",
        "\n",
        "<img src=\"https://resources.zero2one.jp/images/questions/ai_quiz_v2_00207.jpg\" width=\"600\">\n"
      ],
      "metadata": {
        "id": "STYjtku1P69d"
      }
    },
    {
      "cell_type": "markdown",
      "source": [
        "#### 確率的勾配降下法"
      ],
      "metadata": {
        "id": "7hPC--WeUXO1"
      }
    },
    {
      "cell_type": "markdown",
      "source": [
        "先ほど紹介した、勾配降下法での注意点として、最適解に辿り着けず局所解に収束してしまう問題を取り上げた。この解決策となるのが、**確率的勾配降下法**である。\n",
        "\n",
        "確率的勾配降下法は、データ集合すべてを使って学習(**バッチ学習**)するのではなく、一部のサンプル(**ミニバッチ**)を**毎回ランダムに選択して学習**する方法(**ミニバッチ学習**)\n",
        "\n",
        "<br>\n",
        "\n",
        "**概要**\n",
        "- **確率的選択**: データ集合からサンプルを確率的に選択し、誤差関数を求める。\n",
        "- **データのシャッフル**: 実際にはデータ集合全体をシャッフルしてから順番にサンプルを選択することが一般的。\n",
        "\n",
        "**用語解説**\n",
        "- **バッチサイズ**: 一回のサンプル選択において含まれるデータの数。\n",
        "- **エポック**: データ集合を1周回す単位。深層学習では複数のエポックが基本的に必要。\n",
        "\n",
        "\n",
        "\n"
      ],
      "metadata": {
        "id": "2h9kWQnlUie5"
      }
    },
    {
      "cell_type": "markdown",
      "source": [],
      "metadata": {
        "id": "dm0zRxvRYkir"
      }
    },
    {
      "cell_type": "code",
      "source": [],
      "metadata": {
        "id": "snbBzeMK8o43"
      },
      "execution_count": null,
      "outputs": []
    }
  ]
}